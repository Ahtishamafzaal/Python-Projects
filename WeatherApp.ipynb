{
  "nbformat": 4,
  "nbformat_minor": 0,
  "metadata": {
    "colab": {
      "provenance": [],
      "authorship_tag": "ABX9TyNtgvZ+PpqF3sgO1tBYNz79",
      "include_colab_link": true
    },
    "kernelspec": {
      "name": "python3",
      "display_name": "Python 3"
    },
    "language_info": {
      "name": "python"
    }
  },
  "cells": [
    {
      "cell_type": "markdown",
      "metadata": {
        "id": "view-in-github",
        "colab_type": "text"
      },
      "source": [
        "<a href=\"https://colab.research.google.com/github/Ahtishamafzaal/Python-Projects/blob/main/WeatherApp.ipynb\" target=\"_parent\"><img src=\"https://colab.research.google.com/assets/colab-badge.svg\" alt=\"Open In Colab\"/></a>"
      ]
    },
    {
      "cell_type": "code",
      "source": [
        "!pip install requests"
      ],
      "metadata": {
        "colab": {
          "base_uri": "https://localhost:8080/"
        },
        "id": "qZb98kDfxYsZ",
        "outputId": "39582a67-1436-4abb-e031-93eca472c3a3"
      },
      "execution_count": 11,
      "outputs": [
        {
          "output_type": "stream",
          "name": "stdout",
          "text": [
            "Requirement already satisfied: requests in /usr/local/lib/python3.10/dist-packages (2.27.1)\n",
            "Requirement already satisfied: urllib3<1.27,>=1.21.1 in /usr/local/lib/python3.10/dist-packages (from requests) (1.26.16)\n",
            "Requirement already satisfied: certifi>=2017.4.17 in /usr/local/lib/python3.10/dist-packages (from requests) (2023.5.7)\n",
            "Requirement already satisfied: charset-normalizer~=2.0.0 in /usr/local/lib/python3.10/dist-packages (from requests) (2.0.12)\n",
            "Requirement already satisfied: idna<4,>=2.5 in /usr/local/lib/python3.10/dist-packages (from requests) (3.4)\n"
          ]
        }
      ]
    },
    {
      "cell_type": "code",
      "execution_count": 25,
      "metadata": {
        "colab": {
          "base_uri": "https://localhost:8080/"
        },
        "id": "CEukmAWEssz2",
        "outputId": "68b740a8-05c4-4513-855b-4e245932b6e5"
      },
      "outputs": [
        {
          "output_type": "stream",
          "name": "stdout",
          "text": [
            "Enter a city name: Islamabad\n",
            "The temperature in Islamabad is 26.58°C with Clouds\n"
          ]
        }
      ],
      "source": [
        "#import the libraries\n",
        "import requests\n",
        "\n",
        "#defining a function\n",
        "def get_weather(city):\n",
        "    api_key = 'API_KEY'  # Replace with your OpenWeatherMap API key\n",
        "    base_url = 'http://api.openweathermap.org/data/2.5/weather'\n",
        "    params = {\n",
        "        'q': city,\n",
        "        'appid': api_key,\n",
        "        'units': 'metric'  # Use 'imperial' for Fahrenheit\n",
        "    }\n",
        "    response = requests.get(base_url,params)\n",
        "    data = response.json()\n",
        "\n",
        "    if response.status_code == 200:\n",
        "        temperature = data['main']['temp']\n",
        "        weather_condition = data['weather'][0]['main']\n",
        "        print(f\"The temperature in {city} is {temperature}°C with {weather_condition}\")\n",
        "    else:\n",
        "        print(\"Failed to retrieve weather data.\")\n",
        "\n",
        "\n",
        "city = input(\"Enter a city name: \")\n",
        "get_weather(city)\n"
      ]
    }
  ]
}