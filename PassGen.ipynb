{
  "nbformat": 4,
  "nbformat_minor": 0,
  "metadata": {
    "colab": {
      "provenance": [],
      "authorship_tag": "ABX9TyNBS8jl7vT1oVzHLLYG6gbI"
    },
    "kernelspec": {
      "name": "python3",
      "display_name": "Python 3"
    },
    "language_info": {
      "name": "python"
    }
  },
  "cells": [
    {
      "cell_type": "code",
      "execution_count": 2,
      "metadata": {
        "id": "4OQrsGEj8oS1"
      },
      "outputs": [],
      "source": [
        "import random\n",
        "import string"
      ]
    },
    {
      "cell_type": "code",
      "source": [
        "\n",
        "def generate_password(min_length, numbers=True, special_characters=True):\n",
        "    letters = string.ascii_letters\n",
        "    digits = string.digits\n",
        "    special = string.punctuation\n",
        "\n",
        "    characters = letters\n",
        "    if numbers:\n",
        "        characters += digits\n",
        "    if special_characters:\n",
        "        characters += special\n",
        "\n",
        "    pwd = \"\"\n",
        "    meet_criteria = False\n",
        "    has_number = False\n",
        "    has_special = False\n",
        "\n",
        "    while not meet_criteria or len(pwd) < min_length:\n",
        "        new_char = random.choice(characters)\n",
        "        pwd += new_char\n",
        "\n",
        "        if new_char in digits:\n",
        "            has_number = True\n",
        "        elif new_char in special:\n",
        "            has_special = True\n",
        "\n",
        "        meet_criteria = True\n",
        "        if numbers:\n",
        "            meet_criteria = meet_criteria and has_number\n",
        "        if special_characters:\n",
        "            meet_criteria = meet_criteria and has_special\n",
        "\n",
        "    return pwd\n",
        "\n",
        "\n",
        "min_lenght = int(input(\"Enter the minimum lenght: \"))\n",
        "has_number = input(\"Do you want to have numbers (y/n):\").lower() ==\"y\"\n",
        "has_special = input(\"Do you want to have special characters (y/n):\").lower() ==\"y\"\n",
        "\n",
        "pwd = generate_password(min_lenght, has_number, has_special)\n",
        "print(\"The generated password is:\", pwd)"
      ],
      "metadata": {
        "colab": {
          "base_uri": "https://localhost:8080/"
        },
        "id": "NViq05Rw8xWZ",
        "outputId": "5dab3ef9-8e3f-400e-9bad-8d62371ef682"
      },
      "execution_count": 13,
      "outputs": [
        {
          "output_type": "stream",
          "name": "stdout",
          "text": [
            "Enter the minimum lenght: 36\n",
            "Do you want to have numbers (y/n):n\n",
            "Do you want to have special characters (y/n):y\n",
            "The generated password is: $l.?Q=^'PSz_%eg%xm=\\kxO%$LplcgV`&*eA\n",
            "36\n"
          ]
        }
      ]
    }
  ]
}